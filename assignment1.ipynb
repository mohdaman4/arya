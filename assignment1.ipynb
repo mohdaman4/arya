{
 "cells": [
  {
   "cell_type": "code",
   "execution_count": 1,
   "metadata": {},
   "outputs": [
    {
     "name": "stdout",
     "output_type": "stream",
     "text": [
      "{'a': 1, 'b': 2, 'c': 3}\n",
      "{'a': 1, 'b': 2, 'c': 3}\n"
     ]
    }
   ],
   "source": [
    "# 1. Lambda function to merge two lists into a dictionary\n",
    "merge_lists = lambda keys, values: {keys[i]: values[i] for i in range(len(keys))}\n",
    "\n",
    "keys = ['a', 'b', 'c']\n",
    "values = [1, 2, 3]\n",
    "\n",
    "result = merge_lists(keys, values)\n",
    "print(result)\n",
    "merge_lists = lambda keys, values: {keys[i]: values[i] for i in range(len(keys))}\n",
    "\n",
    "keys = ['a', 'b', 'c']\n",
    "values = [1, 2, 3]\n",
    "\n",
    "result = merge_lists(keys, values)\n",
    "print(result)"
   ]
  },
  {
   "cell_type": "code",
   "execution_count": 2,
   "metadata": {},
   "outputs": [
    {
     "name": "stdout",
     "output_type": "stream",
     "text": [
      "900.0\n"
     ]
    }
   ],
   "source": [
    "# 2. Class Product with discount calculation\n",
    "class Product:\n",
    "    discount_rate = 0.1 \n",
    "    \n",
    "    def __init__(self, name, price):\n",
    "        self.name = name\n",
    "        self.price = price\n",
    "    \n",
    "    def discounted_price(self):\n",
    "        return self.price * (1 - Product.discount_rate)\n",
    "\n",
    "product = Product(\"Laptop\", 1000)\n",
    "print(product.discounted_price()) "
   ]
  },
  {
   "cell_type": "code",
   "execution_count": 3,
   "metadata": {},
   "outputs": [
    {
     "name": "stdout",
     "output_type": "stream",
     "text": [
      "78.53981633974483\n",
      "24\n"
     ]
    }
   ],
   "source": [
    "import math\n",
    "\n",
    "class Shape:\n",
    "    def area(self):\n",
    "        pass  \n",
    "\n",
    "class Circle(Shape):\n",
    "    def __init__(self, radius):\n",
    "        self.radius = radius\n",
    "    \n",
    "    def area(self):\n",
    "        return math.pi * self.radius ** 2\n",
    "\n",
    "class Rectangle(Shape):\n",
    "    def __init__(self, width, height):\n",
    "        self.width = width\n",
    "        self.height = height\n",
    "    \n",
    "    def area(self):\n",
    "        return self.width * self.height\n",
    "\n",
    "circle = Circle(5)\n",
    "rectangle = Rectangle(4, 6)\n",
    "print(circle.area())  \n",
    "print(rectangle.area())  "
   ]
  },
  {
   "cell_type": "code",
   "execution_count": 4,
   "metadata": {},
   "outputs": [
    {
     "name": "stdout",
     "output_type": "stream",
     "text": [
      "Alice M123 HR\n"
     ]
    }
   ],
   "source": [
    "class Person:\n",
    "    def __init__(self, name):\n",
    "        self.name = name\n",
    "\n",
    "class Employee:\n",
    "    def __init__(self, emp_id):\n",
    "        self.emp_id = emp_id\n",
    "\n",
    "class Manager(Person, Employee):\n",
    "    def __init__(self, name, emp_id, department):\n",
    "        Person.__init__(self, name)\n",
    "        Employee.__init__(self, emp_id)\n",
    "        self.department = department\n",
    "\n",
    "manager = Manager(\"Alice\", \"M123\", \"HR\")\n",
    "print(manager.name, manager.emp_id, manager.department)  "
   ]
  },
  {
   "cell_type": "code",
   "execution_count": 5,
   "metadata": {},
   "outputs": [
    {
     "name": "stdout",
     "output_type": "stream",
     "text": [
      "Woof!\n",
      "Meow!\n",
      "Moo!\n"
     ]
    }
   ],
   "source": [
    "class Dog:\n",
    "    def make_sound(self):\n",
    "        return \"Woof!\"\n",
    "\n",
    "class Cat:\n",
    "    def make_sound(self):\n",
    "        return \"Meow!\"\n",
    "\n",
    "class Cow:\n",
    "    def make_sound(self):\n",
    "        return \"Moo!\"\n",
    "\n",
    "def play_sound(animal):\n",
    "    print(animal.make_sound())\n",
    "\n",
    "dog = Dog()\n",
    "cat = Cat()\n",
    "cow = Cow()\n",
    "play_sound(dog)  \n",
    "play_sound(cat)  \n",
    "play_sound(cow) "
   ]
  },
  {
   "cell_type": "code",
   "execution_count": 6,
   "metadata": {},
   "outputs": [
    {
     "name": "stdout",
     "output_type": "stream",
     "text": [
      "2022 Toyota Corolla, Seats: 5\n",
      "2021 Yamaha R15, Type: Sports\n"
     ]
    }
   ],
   "source": [
    "class Vehicle:\n",
    "    def __init__(self, brand, model, year):\n",
    "        self.brand = brand\n",
    "        self.model = model\n",
    "        self.year = year\n",
    "    \n",
    "    def display_info(self):\n",
    "        return f\"{self.year} {self.brand} {self.model}\"\n",
    "\n",
    "class Car(Vehicle):\n",
    "    def __init__(self, brand, model, year, seats):\n",
    "        super().__init__(brand, model, year)\n",
    "        self.seats = seats\n",
    "\n",
    "    def display_info(self):\n",
    "        return super().display_info() + f\", Seats: {self.seats}\"\n",
    "\n",
    "class Bike(Vehicle):\n",
    "    def __init__(self, brand, model, year, type):\n",
    "        super().__init__(brand, model, year)\n",
    "        self.type = type  \n",
    "\n",
    "    def display_info(self):\n",
    "        return super().display_info() + f\", Type: {self.type}\"\n",
    "\n",
    "car = Car(\"Toyota\", \"Corolla\", 2022, 5)\n",
    "bike = Bike(\"Yamaha\", \"R15\", 2021, \"Sports\")\n",
    "print(car.display_info()) \n",
    "print(bike.display_info()) "
   ]
  },
  {
   "cell_type": "code",
   "execution_count": null,
   "metadata": {},
   "outputs": [],
   "source": []
  }
 ],
 "metadata": {
  "kernelspec": {
   "display_name": "Python 3",
   "language": "python",
   "name": "python3"
  },
  "language_info": {
   "codemirror_mode": {
    "name": "ipython",
    "version": 3
   },
   "file_extension": ".py",
   "mimetype": "text/x-python",
   "name": "python",
   "nbconvert_exporter": "python",
   "pygments_lexer": "ipython3",
   "version": "3.12.4"
  }
 },
 "nbformat": 4,
 "nbformat_minor": 2
}
